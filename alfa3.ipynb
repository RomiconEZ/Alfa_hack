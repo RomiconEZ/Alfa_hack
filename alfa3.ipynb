{
 "cells": [
  {
   "cell_type": "code",
   "execution_count": 2,
   "metadata": {
    "colab": {
     "base_uri": "https://localhost:8080/"
    },
    "id": "5er4C-DeAXGo",
    "outputId": "0ce09ceb-c298-4586-e0db-62bd9bb87de3"
   },
   "outputs": [
    {
     "name": "stdout",
     "output_type": "stream",
     "text": [
      "Looking in indexes: https://pypi.org/simple, https://us-python.pkg.dev/colab-wheels/public/simple/\n",
      "Collecting h3\n",
      "  Downloading h3-3.7.4-cp37-cp37m-manylinux_2_17_x86_64.manylinux2014_x86_64.whl (1.1 MB)\n",
      "\u001b[K     |████████████████████████████████| 1.1 MB 5.1 MB/s \n",
      "\u001b[?25hInstalling collected packages: h3\n",
      "Successfully installed h3-3.7.4\n",
      "Looking in indexes: https://pypi.org/simple, https://us-python.pkg.dev/colab-wheels/public/simple/\n",
      "Collecting keplergl\n",
      "  Downloading keplergl-0.3.2.tar.gz (9.7 MB)\n",
      "\u001b[K     |████████████████████████████████| 9.7 MB 4.7 MB/s \n",
      "\u001b[?25h  Installing build dependencies ... \u001b[?25l\u001b[?25hdone\n",
      "  Getting requirements to build wheel ... \u001b[?25l\u001b[?25hdone\n",
      "    Preparing wheel metadata ... \u001b[?25l\u001b[?25hdone\n",
      "Requirement already satisfied: pandas>=0.23.0 in /usr/local/lib/python3.7/dist-packages (from keplergl) (1.3.5)\n",
      "Requirement already satisfied: ipywidgets<8,>=7.0.0 in /usr/local/lib/python3.7/dist-packages (from keplergl) (7.7.0)\n",
      "Collecting geopandas>=0.5.0\n",
      "  Downloading geopandas-0.10.2-py2.py3-none-any.whl (1.0 MB)\n",
      "\u001b[K     |████████████████████████████████| 1.0 MB 41.1 MB/s \n",
      "\u001b[?25hRequirement already satisfied: Shapely>=1.6.4.post2 in /usr/local/lib/python3.7/dist-packages (from keplergl) (1.8.2)\n",
      "Collecting traittypes>=0.2.1\n",
      "  Downloading traittypes-0.2.1-py2.py3-none-any.whl (8.6 kB)\n",
      "Collecting pyproj>=2.2.0\n",
      "  Downloading pyproj-3.2.1-cp37-cp37m-manylinux2010_x86_64.whl (6.3 MB)\n",
      "\u001b[K     |████████████████████████████████| 6.3 MB 52.2 MB/s \n",
      "\u001b[?25hCollecting fiona>=1.8\n",
      "  Downloading Fiona-1.8.21-cp37-cp37m-manylinux2014_x86_64.whl (16.7 MB)\n",
      "\u001b[K     |████████████████████████████████| 16.7 MB 168 kB/s \n",
      "\u001b[?25hCollecting munch\n",
      "  Downloading munch-2.5.0-py2.py3-none-any.whl (10 kB)\n",
      "Collecting cligj>=0.5\n",
      "  Downloading cligj-0.7.2-py3-none-any.whl (7.1 kB)\n",
      "Requirement already satisfied: six>=1.7 in /usr/local/lib/python3.7/dist-packages (from fiona>=1.8->geopandas>=0.5.0->keplergl) (1.15.0)\n",
      "Requirement already satisfied: click>=4.0 in /usr/local/lib/python3.7/dist-packages (from fiona>=1.8->geopandas>=0.5.0->keplergl) (7.1.2)\n",
      "Requirement already satisfied: certifi in /usr/local/lib/python3.7/dist-packages (from fiona>=1.8->geopandas>=0.5.0->keplergl) (2022.5.18.1)\n",
      "Collecting click-plugins>=1.0\n",
      "  Downloading click_plugins-1.1.1-py2.py3-none-any.whl (7.5 kB)\n",
      "Requirement already satisfied: setuptools in /usr/local/lib/python3.7/dist-packages (from fiona>=1.8->geopandas>=0.5.0->keplergl) (57.4.0)\n",
      "Requirement already satisfied: attrs>=17 in /usr/local/lib/python3.7/dist-packages (from fiona>=1.8->geopandas>=0.5.0->keplergl) (21.4.0)\n",
      "Requirement already satisfied: traitlets>=4.3.1 in /usr/local/lib/python3.7/dist-packages (from ipywidgets<8,>=7.0.0->keplergl) (5.1.1)\n",
      "Requirement already satisfied: ipython-genutils~=0.2.0 in /usr/local/lib/python3.7/dist-packages (from ipywidgets<8,>=7.0.0->keplergl) (0.2.0)\n",
      "Requirement already satisfied: ipykernel>=4.5.1 in /usr/local/lib/python3.7/dist-packages (from ipywidgets<8,>=7.0.0->keplergl) (4.10.1)\n",
      "Requirement already satisfied: jupyterlab-widgets>=1.0.0 in /usr/local/lib/python3.7/dist-packages (from ipywidgets<8,>=7.0.0->keplergl) (1.1.0)\n",
      "Requirement already satisfied: ipython>=4.0.0 in /usr/local/lib/python3.7/dist-packages (from ipywidgets<8,>=7.0.0->keplergl) (5.5.0)\n",
      "Requirement already satisfied: nbformat>=4.2.0 in /usr/local/lib/python3.7/dist-packages (from ipywidgets<8,>=7.0.0->keplergl) (5.4.0)\n",
      "Requirement already satisfied: widgetsnbextension~=3.6.0 in /usr/local/lib/python3.7/dist-packages (from ipywidgets<8,>=7.0.0->keplergl) (3.6.0)\n",
      "Requirement already satisfied: tornado>=4.0 in /usr/local/lib/python3.7/dist-packages (from ipykernel>=4.5.1->ipywidgets<8,>=7.0.0->keplergl) (5.1.1)\n",
      "Requirement already satisfied: jupyter-client in /usr/local/lib/python3.7/dist-packages (from ipykernel>=4.5.1->ipywidgets<8,>=7.0.0->keplergl) (5.3.5)\n",
      "Requirement already satisfied: pickleshare in /usr/local/lib/python3.7/dist-packages (from ipython>=4.0.0->ipywidgets<8,>=7.0.0->keplergl) (0.7.5)\n",
      "Requirement already satisfied: simplegeneric>0.8 in /usr/local/lib/python3.7/dist-packages (from ipython>=4.0.0->ipywidgets<8,>=7.0.0->keplergl) (0.8.1)\n",
      "Requirement already satisfied: pexpect in /usr/local/lib/python3.7/dist-packages (from ipython>=4.0.0->ipywidgets<8,>=7.0.0->keplergl) (4.8.0)\n",
      "Requirement already satisfied: decorator in /usr/local/lib/python3.7/dist-packages (from ipython>=4.0.0->ipywidgets<8,>=7.0.0->keplergl) (4.4.2)\n",
      "Requirement already satisfied: prompt-toolkit<2.0.0,>=1.0.4 in /usr/local/lib/python3.7/dist-packages (from ipython>=4.0.0->ipywidgets<8,>=7.0.0->keplergl) (1.0.18)\n",
      "Requirement already satisfied: pygments in /usr/local/lib/python3.7/dist-packages (from ipython>=4.0.0->ipywidgets<8,>=7.0.0->keplergl) (2.6.1)\n",
      "Requirement already satisfied: jupyter-core in /usr/local/lib/python3.7/dist-packages (from nbformat>=4.2.0->ipywidgets<8,>=7.0.0->keplergl) (4.10.0)\n",
      "Requirement already satisfied: fastjsonschema in /usr/local/lib/python3.7/dist-packages (from nbformat>=4.2.0->ipywidgets<8,>=7.0.0->keplergl) (2.15.3)\n",
      "Requirement already satisfied: jsonschema>=2.6 in /usr/local/lib/python3.7/dist-packages (from nbformat>=4.2.0->ipywidgets<8,>=7.0.0->keplergl) (4.3.3)\n",
      "Requirement already satisfied: importlib-metadata in /usr/local/lib/python3.7/dist-packages (from jsonschema>=2.6->nbformat>=4.2.0->ipywidgets<8,>=7.0.0->keplergl) (4.11.3)\n",
      "Requirement already satisfied: importlib-resources>=1.4.0 in /usr/local/lib/python3.7/dist-packages (from jsonschema>=2.6->nbformat>=4.2.0->ipywidgets<8,>=7.0.0->keplergl) (5.7.1)\n",
      "Requirement already satisfied: typing-extensions in /usr/local/lib/python3.7/dist-packages (from jsonschema>=2.6->nbformat>=4.2.0->ipywidgets<8,>=7.0.0->keplergl) (4.2.0)\n",
      "Requirement already satisfied: pyrsistent!=0.17.0,!=0.17.1,!=0.17.2,>=0.14.0 in /usr/local/lib/python3.7/dist-packages (from jsonschema>=2.6->nbformat>=4.2.0->ipywidgets<8,>=7.0.0->keplergl) (0.18.1)\n",
      "Requirement already satisfied: zipp>=3.1.0 in /usr/local/lib/python3.7/dist-packages (from importlib-resources>=1.4.0->jsonschema>=2.6->nbformat>=4.2.0->ipywidgets<8,>=7.0.0->keplergl) (3.8.0)\n",
      "Requirement already satisfied: python-dateutil>=2.7.3 in /usr/local/lib/python3.7/dist-packages (from pandas>=0.23.0->keplergl) (2.8.2)\n",
      "Requirement already satisfied: numpy>=1.17.3 in /usr/local/lib/python3.7/dist-packages (from pandas>=0.23.0->keplergl) (1.21.6)\n",
      "Requirement already satisfied: pytz>=2017.3 in /usr/local/lib/python3.7/dist-packages (from pandas>=0.23.0->keplergl) (2022.1)\n",
      "Requirement already satisfied: wcwidth in /usr/local/lib/python3.7/dist-packages (from prompt-toolkit<2.0.0,>=1.0.4->ipython>=4.0.0->ipywidgets<8,>=7.0.0->keplergl) (0.2.5)\n",
      "Requirement already satisfied: notebook>=4.4.1 in /usr/local/lib/python3.7/dist-packages (from widgetsnbextension~=3.6.0->ipywidgets<8,>=7.0.0->keplergl) (5.3.1)\n",
      "Requirement already satisfied: nbconvert in /usr/local/lib/python3.7/dist-packages (from notebook>=4.4.1->widgetsnbextension~=3.6.0->ipywidgets<8,>=7.0.0->keplergl) (5.6.1)\n",
      "Requirement already satisfied: terminado>=0.8.1 in /usr/local/lib/python3.7/dist-packages (from notebook>=4.4.1->widgetsnbextension~=3.6.0->ipywidgets<8,>=7.0.0->keplergl) (0.13.3)\n",
      "Requirement already satisfied: jinja2 in /usr/local/lib/python3.7/dist-packages (from notebook>=4.4.1->widgetsnbextension~=3.6.0->ipywidgets<8,>=7.0.0->keplergl) (2.11.3)\n",
      "Requirement already satisfied: Send2Trash in /usr/local/lib/python3.7/dist-packages (from notebook>=4.4.1->widgetsnbextension~=3.6.0->ipywidgets<8,>=7.0.0->keplergl) (1.8.0)\n",
      "Requirement already satisfied: pyzmq>=13 in /usr/local/lib/python3.7/dist-packages (from jupyter-client->ipykernel>=4.5.1->ipywidgets<8,>=7.0.0->keplergl) (23.0.0)\n",
      "Requirement already satisfied: ptyprocess in /usr/local/lib/python3.7/dist-packages (from terminado>=0.8.1->notebook>=4.4.1->widgetsnbextension~=3.6.0->ipywidgets<8,>=7.0.0->keplergl) (0.7.0)\n",
      "Requirement already satisfied: MarkupSafe>=0.23 in /usr/local/lib/python3.7/dist-packages (from jinja2->notebook>=4.4.1->widgetsnbextension~=3.6.0->ipywidgets<8,>=7.0.0->keplergl) (2.0.1)\n",
      "Requirement already satisfied: mistune<2,>=0.8.1 in /usr/local/lib/python3.7/dist-packages (from nbconvert->notebook>=4.4.1->widgetsnbextension~=3.6.0->ipywidgets<8,>=7.0.0->keplergl) (0.8.4)\n",
      "Requirement already satisfied: bleach in /usr/local/lib/python3.7/dist-packages (from nbconvert->notebook>=4.4.1->widgetsnbextension~=3.6.0->ipywidgets<8,>=7.0.0->keplergl) (5.0.0)\n",
      "Requirement already satisfied: pandocfilters>=1.4.1 in /usr/local/lib/python3.7/dist-packages (from nbconvert->notebook>=4.4.1->widgetsnbextension~=3.6.0->ipywidgets<8,>=7.0.0->keplergl) (1.5.0)\n",
      "Requirement already satisfied: testpath in /usr/local/lib/python3.7/dist-packages (from nbconvert->notebook>=4.4.1->widgetsnbextension~=3.6.0->ipywidgets<8,>=7.0.0->keplergl) (0.6.0)\n",
      "Requirement already satisfied: entrypoints>=0.2.2 in /usr/local/lib/python3.7/dist-packages (from nbconvert->notebook>=4.4.1->widgetsnbextension~=3.6.0->ipywidgets<8,>=7.0.0->keplergl) (0.4)\n",
      "Requirement already satisfied: defusedxml in /usr/local/lib/python3.7/dist-packages (from nbconvert->notebook>=4.4.1->widgetsnbextension~=3.6.0->ipywidgets<8,>=7.0.0->keplergl) (0.7.1)\n",
      "Requirement already satisfied: webencodings in /usr/local/lib/python3.7/dist-packages (from bleach->nbconvert->notebook>=4.4.1->widgetsnbextension~=3.6.0->ipywidgets<8,>=7.0.0->keplergl) (0.5.1)\n",
      "Building wheels for collected packages: keplergl\n",
      "  Building wheel for keplergl (PEP 517) ... \u001b[?25l\u001b[?25hdone\n",
      "  Created wheel for keplergl: filename=keplergl-0.3.2-py2.py3-none-any.whl size=17922344 sha256=35e27d8ea7cf8b970bc640c84b0b91f9de5416c8fb995dec97fb7bfe65e6bbde\n",
      "  Stored in directory: /root/.cache/pip/wheels/4b/19/e5/0852b7888ee350e9c57087ccc61eeab9daf50f5caac9c690ec\n",
      "Successfully built keplergl\n",
      "Installing collected packages: munch, cligj, click-plugins, pyproj, fiona, traittypes, geopandas, keplergl\n",
      "Successfully installed click-plugins-1.1.1 cligj-0.7.2 fiona-1.8.21 geopandas-0.10.2 keplergl-0.3.2 munch-2.5.0 pyproj-3.2.1 traittypes-0.2.1\n"
     ]
    }
   ],
   "source": [
    "!pip install h3\n",
    "!pip install keplergl"
   ]
  },
  {
   "cell_type": "code",
   "execution_count": 17,
   "metadata": {
    "id": "U5jD5lMMAgs7"
   },
   "outputs": [],
   "source": [
    "import sys\n",
    "import pandas as pd\n",
    "import os\n",
    "import numpy as np\n",
    "from keplergl import KeplerGl\n",
    "from tqdm.auto import tqdm\n",
    "\n",
    "import pickle\n",
    "from h3 import h3\n",
    "\n",
    "def load_pickle(file_path):\n",
    "    with open(file_path, 'rb') as handle:\n",
    "        return pickle.load(handle)\n",
    "        \n",
    "def save_pickle(obj, filepath): \n",
    "    with open(filepath, 'wb') as handle:\n",
    "        pickle.dump(obj, handle, protocol=pickle.HIGHEST_PROTOCOL)"
   ]
  },
  {
   "cell_type": "code",
   "execution_count": 4,
   "metadata": {
    "colab": {
     "base_uri": "https://localhost:8080/"
    },
    "id": "UMmkq5cfAiRK",
    "outputId": "6f3c65ea-ad33-4302-e06b-2b70fac79467"
   },
   "outputs": [
    {
     "name": "stdout",
     "output_type": "stream",
     "text": [
      "Mounted at /content/drive\n"
     ]
    }
   ],
   "source": [
    "from google.colab import drive\n",
    "drive.mount('/content/drive')"
   ]
  },
  {
   "cell_type": "code",
   "execution_count": 5,
   "metadata": {
    "colab": {
     "base_uri": "https://localhost:8080/"
    },
    "id": "U4kFMccVAjyG",
    "outputId": "20915251-981d-4282-8cdf-5efd269517bf"
   },
   "outputs": [
    {
     "name": "stdout",
     "output_type": "stream",
     "text": [
      "/content/drive/MyDrive/Colab Notebooks/Alfa-data\n"
     ]
    }
   ],
   "source": [
    "%cd /content/drive/MyDrive/Colab Notebooks/Alfa-data"
   ]
  },
  {
   "cell_type": "code",
   "execution_count": 6,
   "metadata": {
    "id": "efYvK_y0AlPW"
   },
   "outputs": [],
   "source": [
    "df_roads = pd.read_csv(\"roads_dataset.csv\")\n",
    "df_transport = pd.read_csv(\"routes_dataset.csv\")\n",
    "df_population = pd.read_csv(\"rosstat_population_all_cities.csv\")\n",
    "df_isochrones = pd.read_csv(\"isochrones_walk_dataset.csv\")\n",
    "df_stops = pd.read_csv(\"osm_stops.csv\")\n",
    "df_companies = pd.read_csv(\"osm_amenity.csv\")\n",
    "df_target = pd.read_csv(\"target_hakaton_spb.csv\", encoding='cp1251')"
   ]
  },
  {
   "cell_type": "code",
   "execution_count": 7,
   "metadata": {
    "id": "yR4sGYxGAm0d"
   },
   "outputs": [],
   "source": [
    "df_target.rename(columns = {'lat_h3' : 'lat', 'lon_h3' : 'lon'}, inplace = True)"
   ]
  },
  {
   "cell_type": "markdown",
   "metadata": {
    "id": "NUR5PKrIAu6H"
   },
   "source": [
    "# Найдём район для каждого банкомата"
   ]
  },
  {
   "cell_type": "markdown",
   "metadata": {
    "id": "Y_h7j7NTAtoz"
   },
   "source": [
    "## Преобразуем изохроны для удобства"
   ]
  },
  {
   "cell_type": "code",
   "execution_count": 8,
   "metadata": {
    "colab": {
     "base_uri": "https://localhost:8080/"
    },
    "id": "for0lucOAzE0",
    "outputId": "92c4b499-4113-4142-b425-3c128ab61507"
   },
   "outputs": [
    {
     "name": "stderr",
     "output_type": "stream",
     "text": [
      "/usr/local/lib/python3.7/dist-packages/ipykernel_launcher.py:3: FutureWarning: The default value of regex will change from True to False in a future version. In addition, single character regular expressions will *not* be treated as literal strings when regex=True.\n",
      "  This is separate from the ipykernel package so we can avoid doing imports until\n",
      "/usr/local/lib/python3.7/dist-packages/ipykernel_launcher.py:4: FutureWarning: The default value of regex will change from True to False in a future version. In addition, single character regular expressions will *not* be treated as literal strings when regex=True.\n",
      "  after removing the cwd from sys.path.\n",
      "/usr/local/lib/python3.7/dist-packages/ipykernel_launcher.py:5: FutureWarning: The default value of regex will change from True to False in a future version. In addition, single character regular expressions will *not* be treated as literal strings when regex=True.\n",
      "  \"\"\"\n",
      "/usr/local/lib/python3.7/dist-packages/ipykernel_launcher.py:9: SettingWithCopyWarning: \n",
      "A value is trying to be set on a copy of a slice from a DataFrame\n",
      "\n",
      "See the caveats in the documentation: https://pandas.pydata.org/pandas-docs/stable/user_guide/indexing.html#returning-a-view-versus-a-copy\n",
      "  if __name__ == '__main__':\n",
      "/usr/local/lib/python3.7/dist-packages/ipykernel_launcher.py:12: SettingWithCopyWarning: \n",
      "A value is trying to be set on a copy of a slice from a DataFrame\n",
      "\n",
      "See the caveats in the documentation: https://pandas.pydata.org/pandas-docs/stable/user_guide/indexing.html#returning-a-view-versus-a-copy\n",
      "  if sys.path[0] == '':\n",
      "/usr/local/lib/python3.7/dist-packages/ipykernel_launcher.py:20: SettingWithCopyWarning: \n",
      "A value is trying to be set on a copy of a slice from a DataFrame\n",
      "\n",
      "See the caveats in the documentation: https://pandas.pydata.org/pandas-docs/stable/user_guide/indexing.html#returning-a-view-versus-a-copy\n",
      "/usr/local/lib/python3.7/dist-packages/pandas/core/indexing.py:1732: SettingWithCopyWarning: \n",
      "A value is trying to be set on a copy of a slice from a DataFrame\n",
      "\n",
      "See the caveats in the documentation: https://pandas.pydata.org/pandas-docs/stable/user_guide/indexing.html#returning-a-view-versus-a-copy\n",
      "  self._setitem_single_block(indexer, value, name)\n",
      "/usr/local/lib/python3.7/dist-packages/ipykernel_launcher.py:21: SettingWithCopyWarning: \n",
      "A value is trying to be set on a copy of a slice from a DataFrame\n",
      "\n",
      "See the caveats in the documentation: https://pandas.pydata.org/pandas-docs/stable/user_guide/indexing.html#returning-a-view-versus-a-copy\n"
     ]
    }
   ],
   "source": [
    "isochrones=df_isochrones.copy()\n",
    "isochrones['walk_15min']=isochrones['walk_15min'].str.replace(',','')\n",
    "isochrones['walk_15min']=isochrones['walk_15min'].str.replace('(','')\n",
    "isochrones['walk_15min']=isochrones['walk_15min'].str.replace(')','')\n",
    "isochrones['walk_15min']=isochrones['walk_15min'].str.replace('(','')\n",
    "isochrones['walk_15min']=isochrones['walk_15min'].str.replace('POLYGON','')\n",
    "\n",
    "for i, row in isochrones.iterrows(): # Сплитим по координатам, нечётная - lat, чётная - lon, и создаём списки\n",
    "  isochrones['walk_15min'][i] = isochrones['walk_15min'][i].split(\" \")[1:]\n",
    "\n",
    "for i, row in isochrones.iterrows(): # Преобразовываем строки в числа\n",
    "  isochrones['walk_15min'][i] = [float(numeric_string) for numeric_string in isochrones['walk_15min'][i]]\n",
    "\n",
    "isochrones.insert(2, \"y_of_dots\", np.nan) # Добавим колонку координат y\n",
    "isochrones.insert(2, \"x_of_dots\", np.nan) # Добавим колонку координат x\n",
    "\n",
    "isochrones_normal_list=isochrones.copy()\n",
    "\n",
    "for i, row in isochrones_normal_list.iterrows(): # Заполним колонки, которые добавили на предыдущем шаге\n",
    "  isochrones_normal_list['x_of_dots'][i]=np.array(isochrones_normal_list['walk_15min'][i][::2], dtype=object)\n",
    "  isochrones_normal_list['y_of_dots'][i]=np.array(isochrones_normal_list['walk_15min'][i][1::2], dtype=object)"
   ]
  },
  {
   "cell_type": "code",
   "execution_count": 11,
   "metadata": {
    "id": "LPz26N1yA6Mf"
   },
   "outputs": [],
   "source": [
    "def inPolygon(x, y, xp, yp):\n",
    "    c=0\n",
    "    for i in range(len(xp)):\n",
    "        if (((yp[i]<=y and y<yp[i-1]) or (yp[i-1]<=y and y<yp[i])) and \n",
    "            (x > (xp[i-1] - xp[i]) * (y - yp[i]) / (yp[i-1] - yp[i]) + xp[i])): c = 1 - c    \n",
    "    return c"
   ]
  },
  {
   "cell_type": "code",
   "execution_count": 12,
   "metadata": {
    "id": "vCZXoxZcA8DQ"
   },
   "outputs": [],
   "source": [
    "df = df_target.merge(df_isochrones[['walk_15min', 'geo_h3_10']], how='left', on='geo_h3_10')"
   ]
  },
  {
   "cell_type": "code",
   "execution_count": 14,
   "metadata": {
    "id": "ogPa6TG4BQaA"
   },
   "outputs": [],
   "source": [
    "df = df[~df.duplicated(subset=['geo_h3_10'], keep='last')] "
   ]
  },
  {
   "cell_type": "code",
   "execution_count": 15,
   "metadata": {
    "id": "1DdZde6WBA4R"
   },
   "outputs": [],
   "source": [
    "def distance(x1, y1, x2, y2):\n",
    "  return np.sqrt(pow(x1 - x2, 2) + pow(y1 - y2, 2))"
   ]
  },
  {
   "cell_type": "code",
   "execution_count": 18,
   "metadata": {
    "colab": {
     "base_uri": "https://localhost:8080/",
     "height": 1000,
     "referenced_widgets": [
      "f53d7f36fb2b4ef8a3971818ba9f44b5",
      "147b0a6f51ff4824ac3300f3b05415cf",
      "8cefc75ebcc8492391458a53b99867c2",
      "a802cc7ffa614232a14fcb4d3acda014",
      "c01b177f981846fb8ac2e5ba0bdb8ca2",
      "8cebd72f78604faaa6d21e87502f80bc",
      "3cd5170ec37a4c43b7fae0065652c5a3",
      "0bca376be618408b83ac153a34a38969",
      "4422db434b994de9bd30566e04d0cf40",
      "6d6f4296dfcd464382ee23fb97bbf09d",
      "b3444d0b21c846b9b982f5be1c8e0e37"
     ]
    },
    "id": "CggJDAsEBcCw",
    "outputId": "2c828f22-2447-44b6-9df4-5c53db2418cf"
   },
   "outputs": [
    {
     "data": {
      "application/vnd.jupyter.widget-view+json": {
       "model_id": "f53d7f36fb2b4ef8a3971818ba9f44b5",
       "version_major": 2,
       "version_minor": 0
      },
      "text/plain": [
       "0it [00:00, ?it/s]"
      ]
     },
     "metadata": {},
     "output_type": "display_data"
    },
    {
     "name": "stdout",
     "output_type": "stream",
     "text": [
      "Num of df = 9\n"
     ]
    },
    {
     "name": "stderr",
     "output_type": "stream",
     "text": [
      "/usr/local/lib/python3.7/dist-packages/pandas/core/indexing.py:1817: SettingWithCopyWarning: \n",
      "A value is trying to be set on a copy of a slice from a DataFrame.\n",
      "Try using .loc[row_indexer,col_indexer] = value instead\n",
      "\n",
      "See the caveats in the documentation: https://pandas.pydata.org/pandas-docs/stable/user_guide/indexing.html#returning-a-view-versus-a-copy\n",
      "  self._setitem_single_column(loc, value, pi)\n",
      "/usr/local/lib/python3.7/dist-packages/pandas/core/indexing.py:1684: SettingWithCopyWarning: \n",
      "A value is trying to be set on a copy of a slice from a DataFrame.\n",
      "Try using .loc[row_indexer,col_indexer] = value instead\n",
      "\n",
      "See the caveats in the documentation: https://pandas.pydata.org/pandas-docs/stable/user_guide/indexing.html#returning-a-view-versus-a-copy\n",
      "  self.obj[key] = infer_fill_value(value)\n"
     ]
    },
    {
     "name": "stdout",
     "output_type": "stream",
     "text": [
      "Num of df = 16\n",
      "Num of df = 21\n",
      "Num of df = 22\n",
      "Num of df = 57\n",
      "Num of df = 58\n",
      "Num of df = 66\n",
      "Num of df = 67\n",
      "Num of df = 68\n",
      "Num of df = 80\n",
      "Num of df = 105\n",
      "Num of df = 108\n",
      "Num of df = 115\n",
      "Num of df = 116\n",
      "Num of df = 122\n",
      "Num of df = 126\n",
      "Num of df = 134\n",
      "Num of df = 138\n",
      "Num of df = 140\n",
      "Num of df = 145\n",
      "Num of df = 146\n",
      "Num of df = 157\n",
      "Num of df = 158\n",
      "Num of df = 161\n",
      "Num of df = 162\n",
      "Num of df = 163\n",
      "Num of df = 164\n",
      "Num of df = 168\n",
      "Num of df = 173\n",
      "Num of df = 174\n",
      "Num of df = 175\n",
      "Num of df = 176\n",
      "Num of df = 178\n",
      "Num of df = 179\n",
      "Num of df = 193\n",
      "Num of df = 194\n",
      "Num of df = 200\n",
      "Num of df = 204\n",
      "Num of df = 206\n",
      "Num of df = 207\n",
      "Num of df = 211\n",
      "Num of df = 212\n",
      "Num of df = 213\n",
      "Num of df = 220\n",
      "Num of df = 222\n",
      "Num of df = 233\n",
      "Num of df = 238\n",
      "Num of df = 239\n",
      "Num of df = 245\n",
      "Num of df = 247\n",
      "Num of df = 255\n",
      "Num of df = 259\n",
      "Num of df = 269\n",
      "Num of df = 270\n",
      "Num of df = 272\n",
      "Num of df = 276\n",
      "Num of df = 279\n",
      "Num of df = 280\n",
      "Num of df = 281\n",
      "Num of df = 282\n",
      "Num of df = 283\n",
      "Num of df = 284\n",
      "Num of df = 285\n",
      "Num of df = 287\n",
      "Num of df = 295\n",
      "Num of df = 296\n",
      "Num of df = 297\n",
      "Num of df = 298\n",
      "Num of df = 299\n",
      "Num of df = 300\n",
      "Num of df = 303\n",
      "Num of df = 316\n",
      "Num of df = 320\n",
      "Num of df = 327\n",
      "Num of df = 328\n",
      "Num of df = 331\n",
      "Num of df = 343\n",
      "Num of df = 347\n",
      "Num of df = 349\n",
      "Num of df = 358\n",
      "Num of df = 363\n",
      "Num of df = 379\n",
      "Num of df = 380\n",
      "Num of df = 387\n",
      "Num of df = 388\n",
      "Num of df = 389\n",
      "Num of df = 392\n",
      "Num of df = 396\n",
      "Num of df = 397\n",
      "Num of df = 398\n",
      "Num of df = 399\n",
      "Num of df = 402\n",
      "Num of df = 406\n",
      "Num of df = 407\n",
      "Num of df = 411\n",
      "Num of df = 412\n",
      "Num of df = 418\n",
      "Num of df = 419\n",
      "Num of df = 420\n",
      "Num of df = 421\n",
      "Num of df = 426\n",
      "Num of df = 428\n",
      "Num of df = 431\n",
      "Num of df = 433\n",
      "Num of df = 438\n",
      "Num of df = 445\n",
      "Num of df = 446\n",
      "Num of df = 447\n",
      "Num of df = 448\n",
      "Num of df = 450\n",
      "Num of df = 453\n",
      "Num of df = 456\n",
      "Num of df = 461\n",
      "Num of df = 462\n",
      "Num of df = 470\n",
      "Num of df = 471\n",
      "Num of df = 478\n",
      "Num of df = 492\n",
      "Num of df = 495\n",
      "Num of df = 496\n",
      "Num of df = 497\n",
      "Num of df = 498\n",
      "Num of df = 517\n",
      "Num of df = 518\n",
      "Num of df = 521\n",
      "Num of df = 526\n"
     ]
    }
   ],
   "source": [
    "for j, row_ in tqdm(df[df['walk_15min'].isna()].iterrows()): # Подберём подходящий район для пропущенных значений \n",
    "  print(f'Num of df = {j}')\n",
    "  tmp = isochrones_normal_list[isochrones_normal_list['city'] == row_.gorod]\n",
    "  for i, row in tmp.iterrows():\n",
    "    mask = df['geo_h3_10'] == row_.geo_h3_10 \n",
    "    if df[\"walk_15min\"][j] is np.nan:  # Сделаем маску\n",
    "        df.loc[mask, 'walk_15min'] = str(row['walk_15min'])\n",
    "        df.loc[mask, 'distance'] = distance(row['lat'], row['lon'], df[\"lat\"][j], df[\"lon\"][j])\n",
    "    else:\n",
    "      if len(df.loc[mask, 'distance'].values) == 1:\n",
    "        if distance(row['lat'], row['lon'], row_[\"lat\"], row_[\"lon\"]) < df.loc[mask, 'distance'].values:\n",
    "          df.loc[mask, 'walk_15min'] = str(row['walk_15min'])\n",
    "          df.loc[mask, 'distance'] = distance(row['lat'], row['lon'], df[\"lat\"][j], df[\"lon\"][j]) \n",
    "      else:\n",
    "        if distance(row['lat'], row['lon'], row_[\"lat\"], row_[\"lon\"]) < df.loc[mask, 'distance'].values[0]:\n",
    "          df.loc[mask, 'walk_15min'] = str(row['walk_15min'])\n",
    "          df.loc[mask, 'distance'] = distance(row['lat'], row['lon'], df[\"lat\"][j], df[\"lon\"][j]) "
   ]
  },
  {
   "cell_type": "markdown",
   "metadata": {
    "id": "6fkNKPAtC6uX"
   },
   "source": [
    "Работа с транспортом"
   ]
  },
  {
   "cell_type": "code",
   "execution_count": 254,
   "metadata": {
    "id": "aEk1CLYUC18r"
   },
   "outputs": [],
   "source": [
    "df_new = df.copy()\n",
    "df_new.insert(3, \"transport_count\", 0)"
   ]
  },
  {
   "cell_type": "code",
   "execution_count": 255,
   "metadata": {
    "colab": {
     "base_uri": "https://localhost:8080/"
    },
    "id": "V4jllwO_DATV",
    "outputId": "b2dfb064-fa09-4328-fa09-9651c5de30de"
   },
   "outputs": [
    {
     "name": "stderr",
     "output_type": "stream",
     "text": [
      "/usr/local/lib/python3.7/dist-packages/ipykernel_launcher.py:12: SettingWithCopyWarning: \n",
      "A value is trying to be set on a copy of a slice from a DataFrame\n",
      "\n",
      "See the caveats in the documentation: https://pandas.pydata.org/pandas-docs/stable/user_guide/indexing.html#returning-a-view-versus-a-copy\n",
      "  if sys.path[0] == '':\n"
     ]
    }
   ],
   "source": [
    "h3_result = lambda id_str: h3.h3_to_geo_boundary(id_str) if h3.h3_is_valid(id_str) else None\n",
    "\n",
    "for i, row in df_new.iterrows():\n",
    "  la, lo = df_stops['lat'][i], df_stops['lon'][i]\n",
    "  hash = h3.geo_to_h3(\n",
    "    lat=la,\n",
    "    lng=lo,\n",
    "    resolution=10\n",
    "  )\n",
    "\n",
    "  if list(df_new['geo_h3_10']).count(hash):\n",
    "      df_new['transport_count'][i] += 1"
   ]
  },
  {
   "cell_type": "code",
   "execution_count": 256,
   "metadata": {
    "colab": {
     "base_uri": "https://localhost:8080/"
    },
    "id": "-ij2Ybg6DF5x",
    "outputId": "d22c8636-b00c-46c8-cfa4-816d9a98d01d"
   },
   "outputs": [
    {
     "name": "stderr",
     "output_type": "stream",
     "text": [
      "/usr/local/lib/python3.7/dist-packages/ipykernel_launcher.py:3: FutureWarning: The default value of regex will change from True to False in a future version. In addition, single character regular expressions will *not* be treated as literal strings when regex=True.\n",
      "  This is separate from the ipykernel package so we can avoid doing imports until\n",
      "/usr/local/lib/python3.7/dist-packages/ipykernel_launcher.py:4: FutureWarning: The default value of regex will change from True to False in a future version. In addition, single character regular expressions will *not* be treated as literal strings when regex=True.\n",
      "  after removing the cwd from sys.path.\n",
      "/usr/local/lib/python3.7/dist-packages/ipykernel_launcher.py:21: SettingWithCopyWarning: \n",
      "A value is trying to be set on a copy of a slice from a DataFrame\n",
      "\n",
      "See the caveats in the documentation: https://pandas.pydata.org/pandas-docs/stable/user_guide/indexing.html#returning-a-view-versus-a-copy\n"
     ]
    }
   ],
   "source": [
    "line = df_transport.copy()\n",
    "line['geometry']=line['geometry'].str.replace(',','')\n",
    "line['geometry']=line['geometry'].str.replace('(','')\n",
    "line['geometry']=line['geometry'].str.replace(')','')\n",
    "line['geometry']=line['geometry'].str.replace('LINESTRING','')\n",
    "\n",
    "for i, row in df_new.iterrows():\n",
    "  line['geometry'][i] = line['geometry'][i].split(\" \")[1:]\n",
    "  line['geometry'][i] = [float(numeric_string) for numeric_string in line['geometry'][i]]\n",
    "  tmp = ''\n",
    "\n",
    "  for j in range(len(line['geometry'][i])-1):\n",
    "    la, lo = line['geometry'][i][j], line['geometry'][i][j+1]\n",
    "    hash = h3.geo_to_h3(\n",
    "      lat=la,\n",
    "      lng=lo,\n",
    "      resolution=10\n",
    "    )\n",
    "    \n",
    "    if list(df_new['geo_h3_10']).count(hash) and tmp != hash: # df_new['transport_count'][i] != 0:\n",
    "      df_new['transport_count'][i] += 1\n",
    "      tmp = hash"
   ]
  },
  {
   "cell_type": "markdown",
   "metadata": {
    "id": "y9STnfmUC3Et"
   },
   "source": [
    "Присоединяем фичи"
   ]
  },
  {
   "cell_type": "code",
   "execution_count": 257,
   "metadata": {
    "id": "R-KfvYMdB5X_"
   },
   "outputs": [],
   "source": [
    "df_wit_features = df_new.merge(df_companies[['geo_h3_10','Автозапчасти для иномарок',\n",
    "       'Авторемонт и техобслуживание (СТО)', 'Алкогольные напитки', 'Аптеки',\n",
    "       'Банки', 'Быстрое питание', 'Доставка готовых блюд', 'Женская одежда',\n",
    "       'Кафе', 'Косметика / Парфюмерия', 'Ногтевые студии', 'Овощи / Фрукты',\n",
    "       'Парикмахерские', 'Платёжные терминалы', 'Постаматы',\n",
    "       'Продуктовые магазины', 'Пункты выдачи интернет-заказов', 'Рестораны',\n",
    "       'Страхование', 'Супермаркеты', 'Цветы', 'Шиномонтаж']], how='left', on='geo_h3_10')"
   ]
  },
  {
   "cell_type": "code",
   "execution_count": 258,
   "metadata": {
    "id": "BtqjAgoIDZ-Z"
   },
   "outputs": [],
   "source": [
    "df_wit_features = df_wit_features.merge(df_population[['geo_h3_10', 'population']], how='left', on='geo_h3_10')"
   ]
  },
  {
   "cell_type": "code",
   "execution_count": 259,
   "metadata": {
    "id": "RuhJsLGVJBtp"
   },
   "outputs": [],
   "source": [
    "df_with_features_save = df_wit_features.copy()"
   ]
  },
  {
   "cell_type": "code",
   "execution_count": 260,
   "metadata": {
    "id": "ygL9NeTreCrb"
   },
   "outputs": [],
   "source": [
    "df_wit_features = df_with_features_save.copy()"
   ]
  },
  {
   "cell_type": "markdown",
   "metadata": {
    "id": "BkzCFAA3Izmn"
   },
   "source": [
    "Заполняем population"
   ]
  },
  {
   "cell_type": "code",
   "execution_count": 261,
   "metadata": {
    "id": "foObNbVMFVen"
   },
   "outputs": [],
   "source": [
    "mean = df_wit_features[\"population\"].mean()\n",
    "std = df_wit_features[\"population\"].std()\n",
    "is_null = df_wit_features[\"population\"].isnull().sum()\n",
    "rand_population = np.random.randint(mean - std, mean + std, size = is_null)\n",
    "population_slice = df_wit_features[\"population\"].copy()\n",
    "population_slice[np.isnan(population_slice)] = rand_population\n",
    "df_wit_features[\"population\"] = population_slice\n",
    "df_wit_features[\"population\"] = df_wit_features[\"population\"].astype(float)"
   ]
  },
  {
   "cell_type": "code",
   "execution_count": 262,
   "metadata": {
    "colab": {
     "base_uri": "https://localhost:8080/",
     "height": 1000
    },
    "id": "BQ-4ILKTgvVU",
    "outputId": "95d9d183-9b07-4f4e-bcca-b10c5904bc93"
   },
   "outputs": [
    {
     "data": {
      "text/html": [
       "\n",
       "  <div id=\"df-55d0d914-3de5-4e91-b0a4-d60dbd0c5b15\">\n",
       "    <div class=\"colab-df-container\">\n",
       "      <div>\n",
       "<style scoped>\n",
       "    .dataframe tbody tr th:only-of-type {\n",
       "        vertical-align: middle;\n",
       "    }\n",
       "\n",
       "    .dataframe tbody tr th {\n",
       "        vertical-align: top;\n",
       "    }\n",
       "\n",
       "    .dataframe thead th {\n",
       "        text-align: right;\n",
       "    }\n",
       "</style>\n",
       "<table border=\"1\" class=\"dataframe\">\n",
       "  <thead>\n",
       "    <tr style=\"text-align: right;\">\n",
       "      <th></th>\n",
       "      <th>gorod</th>\n",
       "      <th>geo_h3_10</th>\n",
       "      <th>lat</th>\n",
       "      <th>transport_count</th>\n",
       "      <th>lon</th>\n",
       "      <th>atm_category</th>\n",
       "      <th>target</th>\n",
       "      <th>atm_cnt</th>\n",
       "      <th>walk_15min</th>\n",
       "      <th>distance</th>\n",
       "      <th>...</th>\n",
       "      <th>Платёжные терминалы</th>\n",
       "      <th>Постаматы</th>\n",
       "      <th>Продуктовые магазины</th>\n",
       "      <th>Пункты выдачи интернет-заказов</th>\n",
       "      <th>Рестораны</th>\n",
       "      <th>Страхование</th>\n",
       "      <th>Супермаркеты</th>\n",
       "      <th>Цветы</th>\n",
       "      <th>Шиномонтаж</th>\n",
       "      <th>population</th>\n",
       "    </tr>\n",
       "  </thead>\n",
       "  <tbody>\n",
       "    <tr>\n",
       "      <th>0</th>\n",
       "      <td>Екатеринбург</td>\n",
       "      <td>8a10c2283357fff</td>\n",
       "      <td>56.865861</td>\n",
       "      <td>3</td>\n",
       "      <td>60.532224</td>\n",
       "      <td>category4</td>\n",
       "      <td>95.333333</td>\n",
       "      <td>1</td>\n",
       "      <td>POLYGON ((60.530224 56.874333, 60.528586 56.87...</td>\n",
       "      <td>NaN</td>\n",
       "      <td>...</td>\n",
       "      <td>7.0</td>\n",
       "      <td>NaN</td>\n",
       "      <td>NaN</td>\n",
       "      <td>1.0</td>\n",
       "      <td>NaN</td>\n",
       "      <td>1.0</td>\n",
       "      <td>6.0</td>\n",
       "      <td>3.0</td>\n",
       "      <td>NaN</td>\n",
       "      <td>798.0</td>\n",
       "    </tr>\n",
       "    <tr>\n",
       "      <th>1</th>\n",
       "      <td>Екатеринбург</td>\n",
       "      <td>8a10c2288087fff</td>\n",
       "      <td>56.885391</td>\n",
       "      <td>2</td>\n",
       "      <td>60.588203</td>\n",
       "      <td>category3</td>\n",
       "      <td>30652.666667</td>\n",
       "      <td>4</td>\n",
       "      <td>POLYGON ((60.593203 56.895636, 60.591203 56.89...</td>\n",
       "      <td>NaN</td>\n",
       "      <td>...</td>\n",
       "      <td>NaN</td>\n",
       "      <td>1.0</td>\n",
       "      <td>NaN</td>\n",
       "      <td>NaN</td>\n",
       "      <td>NaN</td>\n",
       "      <td>3.0</td>\n",
       "      <td>NaN</td>\n",
       "      <td>NaN</td>\n",
       "      <td>NaN</td>\n",
       "      <td>667.0</td>\n",
       "    </tr>\n",
       "    <tr>\n",
       "      <th>2</th>\n",
       "      <td>Екатеринбург</td>\n",
       "      <td>8a10c228820ffff</td>\n",
       "      <td>56.891648</td>\n",
       "      <td>0</td>\n",
       "      <td>60.605399</td>\n",
       "      <td>category2</td>\n",
       "      <td>1162.166667</td>\n",
       "      <td>1</td>\n",
       "      <td>POLYGON ((60.611399 56.900068, 60.609399 56.90...</td>\n",
       "      <td>NaN</td>\n",
       "      <td>...</td>\n",
       "      <td>NaN</td>\n",
       "      <td>NaN</td>\n",
       "      <td>NaN</td>\n",
       "      <td>NaN</td>\n",
       "      <td>NaN</td>\n",
       "      <td>NaN</td>\n",
       "      <td>NaN</td>\n",
       "      <td>NaN</td>\n",
       "      <td>NaN</td>\n",
       "      <td>528.0</td>\n",
       "    </tr>\n",
       "    <tr>\n",
       "      <th>3</th>\n",
       "      <td>Екатеринбург</td>\n",
       "      <td>8a10c2288adffff</td>\n",
       "      <td>56.895039</td>\n",
       "      <td>2</td>\n",
       "      <td>60.598777</td>\n",
       "      <td>category1</td>\n",
       "      <td>2961.333333</td>\n",
       "      <td>1</td>\n",
       "      <td>POLYGON ((60.603777 56.904214, 60.602777 56.90...</td>\n",
       "      <td>NaN</td>\n",
       "      <td>...</td>\n",
       "      <td>NaN</td>\n",
       "      <td>NaN</td>\n",
       "      <td>NaN</td>\n",
       "      <td>NaN</td>\n",
       "      <td>NaN</td>\n",
       "      <td>NaN</td>\n",
       "      <td>NaN</td>\n",
       "      <td>NaN</td>\n",
       "      <td>NaN</td>\n",
       "      <td>675.0</td>\n",
       "    </tr>\n",
       "    <tr>\n",
       "      <th>4</th>\n",
       "      <td>Екатеринбург</td>\n",
       "      <td>8a10c228944ffff</td>\n",
       "      <td>56.896206</td>\n",
       "      <td>0</td>\n",
       "      <td>60.625911</td>\n",
       "      <td>category1</td>\n",
       "      <td>2963.333333</td>\n",
       "      <td>1</td>\n",
       "      <td>POLYGON ((60.624911 56.905507, 60.618911 56.90...</td>\n",
       "      <td>NaN</td>\n",
       "      <td>...</td>\n",
       "      <td>1.0</td>\n",
       "      <td>2.0</td>\n",
       "      <td>NaN</td>\n",
       "      <td>NaN</td>\n",
       "      <td>NaN</td>\n",
       "      <td>NaN</td>\n",
       "      <td>2.0</td>\n",
       "      <td>NaN</td>\n",
       "      <td>NaN</td>\n",
       "      <td>321.0</td>\n",
       "    </tr>\n",
       "    <tr>\n",
       "      <th>...</th>\n",
       "      <td>...</td>\n",
       "      <td>...</td>\n",
       "      <td>...</td>\n",
       "      <td>...</td>\n",
       "      <td>...</td>\n",
       "      <td>...</td>\n",
       "      <td>...</td>\n",
       "      <td>...</td>\n",
       "      <td>...</td>\n",
       "      <td>...</td>\n",
       "      <td>...</td>\n",
       "      <td>...</td>\n",
       "      <td>...</td>\n",
       "      <td>...</td>\n",
       "      <td>...</td>\n",
       "      <td>...</td>\n",
       "      <td>...</td>\n",
       "      <td>...</td>\n",
       "      <td>...</td>\n",
       "      <td>...</td>\n",
       "      <td>...</td>\n",
       "    </tr>\n",
       "    <tr>\n",
       "      <th>490</th>\n",
       "      <td>Санкт-Петербург</td>\n",
       "      <td>8a1106ab618ffff</td>\n",
       "      <td>59.986278</td>\n",
       "      <td>0</td>\n",
       "      <td>30.217541</td>\n",
       "      <td>category1</td>\n",
       "      <td>10523.666667</td>\n",
       "      <td>1</td>\n",
       "      <td>POLYGON ((30.219541 59.994434, 30.218541 59.99...</td>\n",
       "      <td>NaN</td>\n",
       "      <td>...</td>\n",
       "      <td>6.0</td>\n",
       "      <td>1.0</td>\n",
       "      <td>NaN</td>\n",
       "      <td>NaN</td>\n",
       "      <td>NaN</td>\n",
       "      <td>NaN</td>\n",
       "      <td>2.0</td>\n",
       "      <td>NaN</td>\n",
       "      <td>NaN</td>\n",
       "      <td>580.0</td>\n",
       "    </tr>\n",
       "    <tr>\n",
       "      <th>491</th>\n",
       "      <td>Санкт-Петербург</td>\n",
       "      <td>8a1106ab67a7fff</td>\n",
       "      <td>59.983488</td>\n",
       "      <td>0</td>\n",
       "      <td>30.227538</td>\n",
       "      <td>category1</td>\n",
       "      <td>2535.833333</td>\n",
       "      <td>1</td>\n",
       "      <td>POLYGON ((30.232538 59.992805, 30.231538 59.99...</td>\n",
       "      <td>NaN</td>\n",
       "      <td>...</td>\n",
       "      <td>NaN</td>\n",
       "      <td>NaN</td>\n",
       "      <td>NaN</td>\n",
       "      <td>NaN</td>\n",
       "      <td>NaN</td>\n",
       "      <td>NaN</td>\n",
       "      <td>NaN</td>\n",
       "      <td>NaN</td>\n",
       "      <td>NaN</td>\n",
       "      <td>245.0</td>\n",
       "    </tr>\n",
       "    <tr>\n",
       "      <th>492</th>\n",
       "      <td>Санкт-Петербург</td>\n",
       "      <td>8a1106ab6807fff</td>\n",
       "      <td>59.990519</td>\n",
       "      <td>0</td>\n",
       "      <td>30.205250</td>\n",
       "      <td>category4</td>\n",
       "      <td>94.500000</td>\n",
       "      <td>1</td>\n",
       "      <td>POLYGON ((30.20325 60.00073, 30.202425 60.0003...</td>\n",
       "      <td>NaN</td>\n",
       "      <td>...</td>\n",
       "      <td>4.0</td>\n",
       "      <td>NaN</td>\n",
       "      <td>NaN</td>\n",
       "      <td>NaN</td>\n",
       "      <td>4.0</td>\n",
       "      <td>NaN</td>\n",
       "      <td>2.0</td>\n",
       "      <td>1.0</td>\n",
       "      <td>NaN</td>\n",
       "      <td>605.0</td>\n",
       "    </tr>\n",
       "    <tr>\n",
       "      <th>493</th>\n",
       "      <td>Санкт-Петербург</td>\n",
       "      <td>8a1106ab6ae7fff</td>\n",
       "      <td>59.996443</td>\n",
       "      <td>0</td>\n",
       "      <td>30.219656</td>\n",
       "      <td>category2</td>\n",
       "      <td>489.500000</td>\n",
       "      <td>1</td>\n",
       "      <td>POLYGON ((30.225656 60.007665, 30.223656 60.00...</td>\n",
       "      <td>NaN</td>\n",
       "      <td>...</td>\n",
       "      <td>NaN</td>\n",
       "      <td>NaN</td>\n",
       "      <td>NaN</td>\n",
       "      <td>NaN</td>\n",
       "      <td>NaN</td>\n",
       "      <td>NaN</td>\n",
       "      <td>NaN</td>\n",
       "      <td>NaN</td>\n",
       "      <td>NaN</td>\n",
       "      <td>558.0</td>\n",
       "    </tr>\n",
       "    <tr>\n",
       "      <th>494</th>\n",
       "      <td>Санкт-Петербург</td>\n",
       "      <td>8a1106ab6caffff</td>\n",
       "      <td>59.981250</td>\n",
       "      <td>0</td>\n",
       "      <td>30.210110</td>\n",
       "      <td>category4</td>\n",
       "      <td>95.666667</td>\n",
       "      <td>1</td>\n",
       "      <td>POLYGON ((30.21011 59.988524, 30.20911 59.9876...</td>\n",
       "      <td>NaN</td>\n",
       "      <td>...</td>\n",
       "      <td>NaN</td>\n",
       "      <td>NaN</td>\n",
       "      <td>NaN</td>\n",
       "      <td>NaN</td>\n",
       "      <td>NaN</td>\n",
       "      <td>NaN</td>\n",
       "      <td>NaN</td>\n",
       "      <td>NaN</td>\n",
       "      <td>NaN</td>\n",
       "      <td>642.0</td>\n",
       "    </tr>\n",
       "  </tbody>\n",
       "</table>\n",
       "<p>495 rows × 33 columns</p>\n",
       "</div>\n",
       "      <button class=\"colab-df-convert\" onclick=\"convertToInteractive('df-55d0d914-3de5-4e91-b0a4-d60dbd0c5b15')\"\n",
       "              title=\"Convert this dataframe to an interactive table.\"\n",
       "              style=\"display:none;\">\n",
       "        \n",
       "  <svg xmlns=\"http://www.w3.org/2000/svg\" height=\"24px\"viewBox=\"0 0 24 24\"\n",
       "       width=\"24px\">\n",
       "    <path d=\"M0 0h24v24H0V0z\" fill=\"none\"/>\n",
       "    <path d=\"M18.56 5.44l.94 2.06.94-2.06 2.06-.94-2.06-.94-.94-2.06-.94 2.06-2.06.94zm-11 1L8.5 8.5l.94-2.06 2.06-.94-2.06-.94L8.5 2.5l-.94 2.06-2.06.94zm10 10l.94 2.06.94-2.06 2.06-.94-2.06-.94-.94-2.06-.94 2.06-2.06.94z\"/><path d=\"M17.41 7.96l-1.37-1.37c-.4-.4-.92-.59-1.43-.59-.52 0-1.04.2-1.43.59L10.3 9.45l-7.72 7.72c-.78.78-.78 2.05 0 2.83L4 21.41c.39.39.9.59 1.41.59.51 0 1.02-.2 1.41-.59l7.78-7.78 2.81-2.81c.8-.78.8-2.07 0-2.86zM5.41 20L4 18.59l7.72-7.72 1.47 1.35L5.41 20z\"/>\n",
       "  </svg>\n",
       "      </button>\n",
       "      \n",
       "  <style>\n",
       "    .colab-df-container {\n",
       "      display:flex;\n",
       "      flex-wrap:wrap;\n",
       "      gap: 12px;\n",
       "    }\n",
       "\n",
       "    .colab-df-convert {\n",
       "      background-color: #E8F0FE;\n",
       "      border: none;\n",
       "      border-radius: 50%;\n",
       "      cursor: pointer;\n",
       "      display: none;\n",
       "      fill: #1967D2;\n",
       "      height: 32px;\n",
       "      padding: 0 0 0 0;\n",
       "      width: 32px;\n",
       "    }\n",
       "\n",
       "    .colab-df-convert:hover {\n",
       "      background-color: #E2EBFA;\n",
       "      box-shadow: 0px 1px 2px rgba(60, 64, 67, 0.3), 0px 1px 3px 1px rgba(60, 64, 67, 0.15);\n",
       "      fill: #174EA6;\n",
       "    }\n",
       "\n",
       "    [theme=dark] .colab-df-convert {\n",
       "      background-color: #3B4455;\n",
       "      fill: #D2E3FC;\n",
       "    }\n",
       "\n",
       "    [theme=dark] .colab-df-convert:hover {\n",
       "      background-color: #434B5C;\n",
       "      box-shadow: 0px 1px 3px 1px rgba(0, 0, 0, 0.15);\n",
       "      filter: drop-shadow(0px 1px 2px rgba(0, 0, 0, 0.3));\n",
       "      fill: #FFFFFF;\n",
       "    }\n",
       "  </style>\n",
       "\n",
       "      <script>\n",
       "        const buttonEl =\n",
       "          document.querySelector('#df-55d0d914-3de5-4e91-b0a4-d60dbd0c5b15 button.colab-df-convert');\n",
       "        buttonEl.style.display =\n",
       "          google.colab.kernel.accessAllowed ? 'block' : 'none';\n",
       "\n",
       "        async function convertToInteractive(key) {\n",
       "          const element = document.querySelector('#df-55d0d914-3de5-4e91-b0a4-d60dbd0c5b15');\n",
       "          const dataTable =\n",
       "            await google.colab.kernel.invokeFunction('convertToInteractive',\n",
       "                                                     [key], {});\n",
       "          if (!dataTable) return;\n",
       "\n",
       "          const docLinkHtml = 'Like what you see? Visit the ' +\n",
       "            '<a target=\"_blank\" href=https://colab.research.google.com/notebooks/data_table.ipynb>data table notebook</a>'\n",
       "            + ' to learn more about interactive tables.';\n",
       "          element.innerHTML = '';\n",
       "          dataTable['output_type'] = 'display_data';\n",
       "          await google.colab.output.renderOutput(dataTable, element);\n",
       "          const docLink = document.createElement('div');\n",
       "          docLink.innerHTML = docLinkHtml;\n",
       "          element.appendChild(docLink);\n",
       "        }\n",
       "      </script>\n",
       "    </div>\n",
       "  </div>\n",
       "  "
      ],
      "text/plain": [
       "               gorod        geo_h3_10        lat  transport_count        lon  \\\n",
       "0       Екатеринбург  8a10c2283357fff  56.865861                3  60.532224   \n",
       "1       Екатеринбург  8a10c2288087fff  56.885391                2  60.588203   \n",
       "2       Екатеринбург  8a10c228820ffff  56.891648                0  60.605399   \n",
       "3       Екатеринбург  8a10c2288adffff  56.895039                2  60.598777   \n",
       "4       Екатеринбург  8a10c228944ffff  56.896206                0  60.625911   \n",
       "..               ...              ...        ...              ...        ...   \n",
       "490  Санкт-Петербург  8a1106ab618ffff  59.986278                0  30.217541   \n",
       "491  Санкт-Петербург  8a1106ab67a7fff  59.983488                0  30.227538   \n",
       "492  Санкт-Петербург  8a1106ab6807fff  59.990519                0  30.205250   \n",
       "493  Санкт-Петербург  8a1106ab6ae7fff  59.996443                0  30.219656   \n",
       "494  Санкт-Петербург  8a1106ab6caffff  59.981250                0  30.210110   \n",
       "\n",
       "    atm_category        target  atm_cnt  \\\n",
       "0      category4     95.333333        1   \n",
       "1      category3  30652.666667        4   \n",
       "2      category2   1162.166667        1   \n",
       "3      category1   2961.333333        1   \n",
       "4      category1   2963.333333        1   \n",
       "..           ...           ...      ...   \n",
       "490    category1  10523.666667        1   \n",
       "491    category1   2535.833333        1   \n",
       "492    category4     94.500000        1   \n",
       "493    category2    489.500000        1   \n",
       "494    category4     95.666667        1   \n",
       "\n",
       "                                            walk_15min  distance  ...  \\\n",
       "0    POLYGON ((60.530224 56.874333, 60.528586 56.87...       NaN  ...   \n",
       "1    POLYGON ((60.593203 56.895636, 60.591203 56.89...       NaN  ...   \n",
       "2    POLYGON ((60.611399 56.900068, 60.609399 56.90...       NaN  ...   \n",
       "3    POLYGON ((60.603777 56.904214, 60.602777 56.90...       NaN  ...   \n",
       "4    POLYGON ((60.624911 56.905507, 60.618911 56.90...       NaN  ...   \n",
       "..                                                 ...       ...  ...   \n",
       "490  POLYGON ((30.219541 59.994434, 30.218541 59.99...       NaN  ...   \n",
       "491  POLYGON ((30.232538 59.992805, 30.231538 59.99...       NaN  ...   \n",
       "492  POLYGON ((30.20325 60.00073, 30.202425 60.0003...       NaN  ...   \n",
       "493  POLYGON ((30.225656 60.007665, 30.223656 60.00...       NaN  ...   \n",
       "494  POLYGON ((30.21011 59.988524, 30.20911 59.9876...       NaN  ...   \n",
       "\n",
       "     Платёжные терминалы  Постаматы  Продуктовые магазины  \\\n",
       "0                    7.0        NaN                   NaN   \n",
       "1                    NaN        1.0                   NaN   \n",
       "2                    NaN        NaN                   NaN   \n",
       "3                    NaN        NaN                   NaN   \n",
       "4                    1.0        2.0                   NaN   \n",
       "..                   ...        ...                   ...   \n",
       "490                  6.0        1.0                   NaN   \n",
       "491                  NaN        NaN                   NaN   \n",
       "492                  4.0        NaN                   NaN   \n",
       "493                  NaN        NaN                   NaN   \n",
       "494                  NaN        NaN                   NaN   \n",
       "\n",
       "     Пункты выдачи интернет-заказов  Рестораны  Страхование  Супермаркеты  \\\n",
       "0                               1.0        NaN          1.0           6.0   \n",
       "1                               NaN        NaN          3.0           NaN   \n",
       "2                               NaN        NaN          NaN           NaN   \n",
       "3                               NaN        NaN          NaN           NaN   \n",
       "4                               NaN        NaN          NaN           2.0   \n",
       "..                              ...        ...          ...           ...   \n",
       "490                             NaN        NaN          NaN           2.0   \n",
       "491                             NaN        NaN          NaN           NaN   \n",
       "492                             NaN        4.0          NaN           2.0   \n",
       "493                             NaN        NaN          NaN           NaN   \n",
       "494                             NaN        NaN          NaN           NaN   \n",
       "\n",
       "     Цветы  Шиномонтаж  population  \n",
       "0      3.0         NaN       798.0  \n",
       "1      NaN         NaN       667.0  \n",
       "2      NaN         NaN       528.0  \n",
       "3      NaN         NaN       675.0  \n",
       "4      NaN         NaN       321.0  \n",
       "..     ...         ...         ...  \n",
       "490    NaN         NaN       580.0  \n",
       "491    NaN         NaN       245.0  \n",
       "492    1.0         NaN       605.0  \n",
       "493    NaN         NaN       558.0  \n",
       "494    NaN         NaN       642.0  \n",
       "\n",
       "[495 rows x 33 columns]"
      ]
     },
     "execution_count": 262,
     "metadata": {},
     "output_type": "execute_result"
    }
   ],
   "source": [
    "df_wit_features"
   ]
  },
  {
   "cell_type": "markdown",
   "metadata": {
    "id": "5pb2_x-0Jpve"
   },
   "source": [
    "Удаляем вспомогательные поля disctance, lat, lon"
   ]
  },
  {
   "cell_type": "code",
   "execution_count": 264,
   "metadata": {
    "id": "SqOSNDlUUzyM"
   },
   "outputs": [],
   "source": [
    "h3_column = df_wit_features['geo_h3_10']"
   ]
  },
  {
   "cell_type": "code",
   "execution_count": 265,
   "metadata": {
    "id": "uHT09iw5Jt-6"
   },
   "outputs": [],
   "source": [
    "df_wit_features.drop(['distance', 'lat', 'lon', 'geo_h3_10', 'walk_15min'], axis=1, inplace=True)"
   ]
  },
  {
   "cell_type": "code",
   "execution_count": 266,
   "metadata": {
    "colab": {
     "base_uri": "https://localhost:8080/"
    },
    "id": "arlw72ifJRuN",
    "outputId": "c4e53361-321c-4ecb-efe6-dd57bea8ad6b"
   },
   "outputs": [
    {
     "name": "stdout",
     "output_type": "stream",
     "text": [
      "<class 'pandas.core.frame.DataFrame'>\n",
      "Int64Index: 495 entries, 0 to 494\n",
      "Data columns (total 28 columns):\n",
      " #   Column                              Non-Null Count  Dtype  \n",
      "---  ------                              --------------  -----  \n",
      " 0   gorod                               495 non-null    object \n",
      " 1   transport_count                     495 non-null    int64  \n",
      " 2   atm_category                        495 non-null    object \n",
      " 3   target                              495 non-null    float64\n",
      " 4   atm_cnt                             495 non-null    int64  \n",
      " 5   Автозапчасти для иномарок           22 non-null     float64\n",
      " 6   Авторемонт и техобслуживание (СТО)  15 non-null     float64\n",
      " 7   Алкогольные напитки                 64 non-null     float64\n",
      " 8   Аптеки                              179 non-null    float64\n",
      " 9   Банки                               122 non-null    float64\n",
      " 10  Быстрое питание                     160 non-null    float64\n",
      " 11  Доставка готовых блюд               61 non-null     float64\n",
      " 12  Женская одежда                      163 non-null    float64\n",
      " 13  Кафе                                91 non-null     float64\n",
      " 14  Косметика / Парфюмерия              168 non-null    float64\n",
      " 15  Ногтевые студии                     89 non-null     float64\n",
      " 16  Овощи / Фрукты                      69 non-null     float64\n",
      " 17  Парикмахерские                      136 non-null    float64\n",
      " 18  Платёжные терминалы                 234 non-null    float64\n",
      " 19  Постаматы                           162 non-null    float64\n",
      " 20  Продуктовые магазины                44 non-null     float64\n",
      " 21  Пункты выдачи интернет-заказов      105 non-null    float64\n",
      " 22  Рестораны                           60 non-null     float64\n",
      " 23  Страхование                         99 non-null     float64\n",
      " 24  Супермаркеты                        147 non-null    float64\n",
      " 25  Цветы                               103 non-null    float64\n",
      " 26  Шиномонтаж                          19 non-null     float64\n",
      " 27  population                          495 non-null    float64\n",
      "dtypes: float64(24), int64(2), object(2)\n",
      "memory usage: 112.1+ KB\n"
     ]
    }
   ],
   "source": [
    "df_wit_features.info()"
   ]
  },
  {
   "cell_type": "code",
   "execution_count": 267,
   "metadata": {
    "id": "LO0X25GxKVT5"
   },
   "outputs": [],
   "source": [
    "df_wit_features_save_2 = df_wit_features.copy()"
   ]
  },
  {
   "cell_type": "code",
   "execution_count": 268,
   "metadata": {
    "id": "TToxw56OdSQp"
   },
   "outputs": [],
   "source": [
    "df_wit_features = df_wit_features_save_2.copy()"
   ]
  },
  {
   "cell_type": "markdown",
   "metadata": {},
   "source": [
    "Заполним Nan-ы"
   ]
  },
  {
   "cell_type": "code",
   "execution_count": 269,
   "metadata": {
    "id": "ZVNn41E3KF4s"
   },
   "outputs": [],
   "source": [
    "for i in df_wit_features.columns:\n",
    "  df_wit_features[i] = df_wit_features[i].fillna(0)"
   ]
  },
  {
   "cell_type": "code",
   "execution_count": 270,
   "metadata": {
    "colab": {
     "base_uri": "https://localhost:8080/"
    },
    "id": "DmbSkQGuKDO2",
    "outputId": "32b07fdf-23f0-47e8-a1a3-8f94a6898706"
   },
   "outputs": [
    {
     "name": "stdout",
     "output_type": "stream",
     "text": [
      "<class 'pandas.core.frame.DataFrame'>\n",
      "Int64Index: 495 entries, 0 to 494\n",
      "Data columns (total 28 columns):\n",
      " #   Column                              Non-Null Count  Dtype  \n",
      "---  ------                              --------------  -----  \n",
      " 0   gorod                               495 non-null    object \n",
      " 1   transport_count                     495 non-null    int64  \n",
      " 2   atm_category                        495 non-null    object \n",
      " 3   target                              495 non-null    float64\n",
      " 4   atm_cnt                             495 non-null    int64  \n",
      " 5   Автозапчасти для иномарок           495 non-null    float64\n",
      " 6   Авторемонт и техобслуживание (СТО)  495 non-null    float64\n",
      " 7   Алкогольные напитки                 495 non-null    float64\n",
      " 8   Аптеки                              495 non-null    float64\n",
      " 9   Банки                               495 non-null    float64\n",
      " 10  Быстрое питание                     495 non-null    float64\n",
      " 11  Доставка готовых блюд               495 non-null    float64\n",
      " 12  Женская одежда                      495 non-null    float64\n",
      " 13  Кафе                                495 non-null    float64\n",
      " 14  Косметика / Парфюмерия              495 non-null    float64\n",
      " 15  Ногтевые студии                     495 non-null    float64\n",
      " 16  Овощи / Фрукты                      495 non-null    float64\n",
      " 17  Парикмахерские                      495 non-null    float64\n",
      " 18  Платёжные терминалы                 495 non-null    float64\n",
      " 19  Постаматы                           495 non-null    float64\n",
      " 20  Продуктовые магазины                495 non-null    float64\n",
      " 21  Пункты выдачи интернет-заказов      495 non-null    float64\n",
      " 22  Рестораны                           495 non-null    float64\n",
      " 23  Страхование                         495 non-null    float64\n",
      " 24  Супермаркеты                        495 non-null    float64\n",
      " 25  Цветы                               495 non-null    float64\n",
      " 26  Шиномонтаж                          495 non-null    float64\n",
      " 27  population                          495 non-null    float64\n",
      "dtypes: float64(24), int64(2), object(2)\n",
      "memory usage: 112.1+ KB\n"
     ]
    }
   ],
   "source": [
    "df_wit_features.info()"
   ]
  },
  {
   "cell_type": "code",
   "execution_count": 271,
   "metadata": {
    "id": "whTRFUgPLRe8"
   },
   "outputs": [],
   "source": [
    "prepared_data = df_wit_features.copy()"
   ]
  },
  {
   "cell_type": "markdown",
   "metadata": {
    "id": "lLUGmmd7Lwf-"
   },
   "source": [
    "Сохраним csv"
   ]
  },
  {
   "cell_type": "code",
   "execution_count": 272,
   "metadata": {
    "id": "n6YpPYfbUULZ"
   },
   "outputs": [],
   "source": [
    "Features = prepared_data.copy()"
   ]
  },
  {
   "cell_type": "markdown",
   "metadata": {
    "id": "9icSZ5PAMrZF"
   },
   "source": [
    "Get_dummies for категориальных фичей "
   ]
  },
  {
   "cell_type": "code",
   "execution_count": 273,
   "metadata": {
    "colab": {
     "base_uri": "https://localhost:8080/",
     "height": 351
    },
    "id": "QucpA7M2Myws",
    "outputId": "dc15e458-3523-4220-d92e-aec3b0e60c0f"
   },
   "outputs": [
    {
     "name": "stdout",
     "output_type": "stream",
     "text": [
      "(495, 32)\n"
     ]
    },
    {
     "data": {
      "text/html": [
       "\n",
       "  <div id=\"df-c287d617-51a5-4337-8e74-753ba68dbd1d\">\n",
       "    <div class=\"colab-df-container\">\n",
       "      <div>\n",
       "<style scoped>\n",
       "    .dataframe tbody tr th:only-of-type {\n",
       "        vertical-align: middle;\n",
       "    }\n",
       "\n",
       "    .dataframe tbody tr th {\n",
       "        vertical-align: top;\n",
       "    }\n",
       "\n",
       "    .dataframe thead th {\n",
       "        text-align: right;\n",
       "    }\n",
       "</style>\n",
       "<table border=\"1\" class=\"dataframe\">\n",
       "  <thead>\n",
       "    <tr style=\"text-align: right;\">\n",
       "      <th></th>\n",
       "      <th>transport_count</th>\n",
       "      <th>target</th>\n",
       "      <th>atm_cnt</th>\n",
       "      <th>Автозапчасти для иномарок</th>\n",
       "      <th>Авторемонт и техобслуживание (СТО)</th>\n",
       "      <th>Алкогольные напитки</th>\n",
       "      <th>Аптеки</th>\n",
       "      <th>Банки</th>\n",
       "      <th>Быстрое питание</th>\n",
       "      <th>Доставка готовых блюд</th>\n",
       "      <th>...</th>\n",
       "      <th>Супермаркеты</th>\n",
       "      <th>Цветы</th>\n",
       "      <th>Шиномонтаж</th>\n",
       "      <th>population</th>\n",
       "      <th>gorod_Нижний Новгород</th>\n",
       "      <th>gorod_Новосибирск</th>\n",
       "      <th>gorod_Санкт-Петербург</th>\n",
       "      <th>atm_category_category2</th>\n",
       "      <th>atm_category_category3</th>\n",
       "      <th>atm_category_category4</th>\n",
       "    </tr>\n",
       "  </thead>\n",
       "  <tbody>\n",
       "    <tr>\n",
       "      <th>0</th>\n",
       "      <td>3</td>\n",
       "      <td>95.333333</td>\n",
       "      <td>1</td>\n",
       "      <td>0.0</td>\n",
       "      <td>0.0</td>\n",
       "      <td>0.0</td>\n",
       "      <td>2.0</td>\n",
       "      <td>0.0</td>\n",
       "      <td>3.0</td>\n",
       "      <td>0.0</td>\n",
       "      <td>...</td>\n",
       "      <td>6.0</td>\n",
       "      <td>3.0</td>\n",
       "      <td>0.0</td>\n",
       "      <td>798.0</td>\n",
       "      <td>0</td>\n",
       "      <td>0</td>\n",
       "      <td>0</td>\n",
       "      <td>0</td>\n",
       "      <td>0</td>\n",
       "      <td>1</td>\n",
       "    </tr>\n",
       "    <tr>\n",
       "      <th>1</th>\n",
       "      <td>2</td>\n",
       "      <td>30652.666667</td>\n",
       "      <td>4</td>\n",
       "      <td>0.0</td>\n",
       "      <td>0.0</td>\n",
       "      <td>0.0</td>\n",
       "      <td>0.0</td>\n",
       "      <td>2.0</td>\n",
       "      <td>0.0</td>\n",
       "      <td>0.0</td>\n",
       "      <td>...</td>\n",
       "      <td>0.0</td>\n",
       "      <td>0.0</td>\n",
       "      <td>0.0</td>\n",
       "      <td>667.0</td>\n",
       "      <td>0</td>\n",
       "      <td>0</td>\n",
       "      <td>0</td>\n",
       "      <td>0</td>\n",
       "      <td>1</td>\n",
       "      <td>0</td>\n",
       "    </tr>\n",
       "    <tr>\n",
       "      <th>2</th>\n",
       "      <td>0</td>\n",
       "      <td>1162.166667</td>\n",
       "      <td>1</td>\n",
       "      <td>0.0</td>\n",
       "      <td>3.0</td>\n",
       "      <td>0.0</td>\n",
       "      <td>0.0</td>\n",
       "      <td>0.0</td>\n",
       "      <td>0.0</td>\n",
       "      <td>0.0</td>\n",
       "      <td>...</td>\n",
       "      <td>0.0</td>\n",
       "      <td>0.0</td>\n",
       "      <td>0.0</td>\n",
       "      <td>528.0</td>\n",
       "      <td>0</td>\n",
       "      <td>0</td>\n",
       "      <td>0</td>\n",
       "      <td>1</td>\n",
       "      <td>0</td>\n",
       "      <td>0</td>\n",
       "    </tr>\n",
       "    <tr>\n",
       "      <th>3</th>\n",
       "      <td>2</td>\n",
       "      <td>2961.333333</td>\n",
       "      <td>1</td>\n",
       "      <td>0.0</td>\n",
       "      <td>0.0</td>\n",
       "      <td>0.0</td>\n",
       "      <td>0.0</td>\n",
       "      <td>0.0</td>\n",
       "      <td>0.0</td>\n",
       "      <td>0.0</td>\n",
       "      <td>...</td>\n",
       "      <td>0.0</td>\n",
       "      <td>0.0</td>\n",
       "      <td>0.0</td>\n",
       "      <td>675.0</td>\n",
       "      <td>0</td>\n",
       "      <td>0</td>\n",
       "      <td>0</td>\n",
       "      <td>0</td>\n",
       "      <td>0</td>\n",
       "      <td>0</td>\n",
       "    </tr>\n",
       "    <tr>\n",
       "      <th>4</th>\n",
       "      <td>0</td>\n",
       "      <td>2963.333333</td>\n",
       "      <td>1</td>\n",
       "      <td>0.0</td>\n",
       "      <td>0.0</td>\n",
       "      <td>0.0</td>\n",
       "      <td>0.0</td>\n",
       "      <td>0.0</td>\n",
       "      <td>0.0</td>\n",
       "      <td>0.0</td>\n",
       "      <td>...</td>\n",
       "      <td>2.0</td>\n",
       "      <td>0.0</td>\n",
       "      <td>0.0</td>\n",
       "      <td>321.0</td>\n",
       "      <td>0</td>\n",
       "      <td>0</td>\n",
       "      <td>0</td>\n",
       "      <td>0</td>\n",
       "      <td>0</td>\n",
       "      <td>0</td>\n",
       "    </tr>\n",
       "  </tbody>\n",
       "</table>\n",
       "<p>5 rows × 32 columns</p>\n",
       "</div>\n",
       "      <button class=\"colab-df-convert\" onclick=\"convertToInteractive('df-c287d617-51a5-4337-8e74-753ba68dbd1d')\"\n",
       "              title=\"Convert this dataframe to an interactive table.\"\n",
       "              style=\"display:none;\">\n",
       "        \n",
       "  <svg xmlns=\"http://www.w3.org/2000/svg\" height=\"24px\"viewBox=\"0 0 24 24\"\n",
       "       width=\"24px\">\n",
       "    <path d=\"M0 0h24v24H0V0z\" fill=\"none\"/>\n",
       "    <path d=\"M18.56 5.44l.94 2.06.94-2.06 2.06-.94-2.06-.94-.94-2.06-.94 2.06-2.06.94zm-11 1L8.5 8.5l.94-2.06 2.06-.94-2.06-.94L8.5 2.5l-.94 2.06-2.06.94zm10 10l.94 2.06.94-2.06 2.06-.94-2.06-.94-.94-2.06-.94 2.06-2.06.94z\"/><path d=\"M17.41 7.96l-1.37-1.37c-.4-.4-.92-.59-1.43-.59-.52 0-1.04.2-1.43.59L10.3 9.45l-7.72 7.72c-.78.78-.78 2.05 0 2.83L4 21.41c.39.39.9.59 1.41.59.51 0 1.02-.2 1.41-.59l7.78-7.78 2.81-2.81c.8-.78.8-2.07 0-2.86zM5.41 20L4 18.59l7.72-7.72 1.47 1.35L5.41 20z\"/>\n",
       "  </svg>\n",
       "      </button>\n",
       "      \n",
       "  <style>\n",
       "    .colab-df-container {\n",
       "      display:flex;\n",
       "      flex-wrap:wrap;\n",
       "      gap: 12px;\n",
       "    }\n",
       "\n",
       "    .colab-df-convert {\n",
       "      background-color: #E8F0FE;\n",
       "      border: none;\n",
       "      border-radius: 50%;\n",
       "      cursor: pointer;\n",
       "      display: none;\n",
       "      fill: #1967D2;\n",
       "      height: 32px;\n",
       "      padding: 0 0 0 0;\n",
       "      width: 32px;\n",
       "    }\n",
       "\n",
       "    .colab-df-convert:hover {\n",
       "      background-color: #E2EBFA;\n",
       "      box-shadow: 0px 1px 2px rgba(60, 64, 67, 0.3), 0px 1px 3px 1px rgba(60, 64, 67, 0.15);\n",
       "      fill: #174EA6;\n",
       "    }\n",
       "\n",
       "    [theme=dark] .colab-df-convert {\n",
       "      background-color: #3B4455;\n",
       "      fill: #D2E3FC;\n",
       "    }\n",
       "\n",
       "    [theme=dark] .colab-df-convert:hover {\n",
       "      background-color: #434B5C;\n",
       "      box-shadow: 0px 1px 3px 1px rgba(0, 0, 0, 0.15);\n",
       "      filter: drop-shadow(0px 1px 2px rgba(0, 0, 0, 0.3));\n",
       "      fill: #FFFFFF;\n",
       "    }\n",
       "  </style>\n",
       "\n",
       "      <script>\n",
       "        const buttonEl =\n",
       "          document.querySelector('#df-c287d617-51a5-4337-8e74-753ba68dbd1d button.colab-df-convert');\n",
       "        buttonEl.style.display =\n",
       "          google.colab.kernel.accessAllowed ? 'block' : 'none';\n",
       "\n",
       "        async function convertToInteractive(key) {\n",
       "          const element = document.querySelector('#df-c287d617-51a5-4337-8e74-753ba68dbd1d');\n",
       "          const dataTable =\n",
       "            await google.colab.kernel.invokeFunction('convertToInteractive',\n",
       "                                                     [key], {});\n",
       "          if (!dataTable) return;\n",
       "\n",
       "          const docLinkHtml = 'Like what you see? Visit the ' +\n",
       "            '<a target=\"_blank\" href=https://colab.research.google.com/notebooks/data_table.ipynb>data table notebook</a>'\n",
       "            + ' to learn more about interactive tables.';\n",
       "          element.innerHTML = '';\n",
       "          dataTable['output_type'] = 'display_data';\n",
       "          await google.colab.output.renderOutput(dataTable, element);\n",
       "          const docLink = document.createElement('div');\n",
       "          docLink.innerHTML = docLinkHtml;\n",
       "          element.appendChild(docLink);\n",
       "        }\n",
       "      </script>\n",
       "    </div>\n",
       "  </div>\n",
       "  "
      ],
      "text/plain": [
       "   transport_count        target  atm_cnt  Автозапчасти для иномарок  \\\n",
       "0                3     95.333333        1                        0.0   \n",
       "1                2  30652.666667        4                        0.0   \n",
       "2                0   1162.166667        1                        0.0   \n",
       "3                2   2961.333333        1                        0.0   \n",
       "4                0   2963.333333        1                        0.0   \n",
       "\n",
       "   Авторемонт и техобслуживание (СТО)  Алкогольные напитки  Аптеки  Банки  \\\n",
       "0                                 0.0                  0.0     2.0    0.0   \n",
       "1                                 0.0                  0.0     0.0    2.0   \n",
       "2                                 3.0                  0.0     0.0    0.0   \n",
       "3                                 0.0                  0.0     0.0    0.0   \n",
       "4                                 0.0                  0.0     0.0    0.0   \n",
       "\n",
       "   Быстрое питание  Доставка готовых блюд  ...  Супермаркеты  Цветы  \\\n",
       "0              3.0                    0.0  ...           6.0    3.0   \n",
       "1              0.0                    0.0  ...           0.0    0.0   \n",
       "2              0.0                    0.0  ...           0.0    0.0   \n",
       "3              0.0                    0.0  ...           0.0    0.0   \n",
       "4              0.0                    0.0  ...           2.0    0.0   \n",
       "\n",
       "   Шиномонтаж  population  gorod_Нижний Новгород  gorod_Новосибирск  \\\n",
       "0         0.0       798.0                      0                  0   \n",
       "1         0.0       667.0                      0                  0   \n",
       "2         0.0       528.0                      0                  0   \n",
       "3         0.0       675.0                      0                  0   \n",
       "4         0.0       321.0                      0                  0   \n",
       "\n",
       "   gorod_Санкт-Петербург  atm_category_category2  atm_category_category3  \\\n",
       "0                      0                       0                       0   \n",
       "1                      0                       0                       1   \n",
       "2                      0                       1                       0   \n",
       "3                      0                       0                       0   \n",
       "4                      0                       0                       0   \n",
       "\n",
       "   atm_category_category4  \n",
       "0                       1  \n",
       "1                       0  \n",
       "2                       0  \n",
       "3                       0  \n",
       "4                       0  \n",
       "\n",
       "[5 rows x 32 columns]"
      ]
     },
     "execution_count": 273,
     "metadata": {},
     "output_type": "execute_result"
    }
   ],
   "source": [
    "#Преобразуем категориальные признаки\n",
    "Features_dum = pd.get_dummies(Features, drop_first=True)\n",
    "print(Features_dum.shape)\n",
    "Features_dum.head()"
   ]
  },
  {
   "cell_type": "markdown",
   "metadata": {
    "id": "ZZc5q1BxFYdH"
   },
   "source": [
    "# Разделим данные на train и validation"
   ]
  },
  {
   "cell_type": "code",
   "execution_count": 274,
   "metadata": {
    "id": "9f9xlvisNPK4"
   },
   "outputs": [],
   "source": [
    "from sklearn import preprocessing"
   ]
  },
  {
   "cell_type": "code",
   "execution_count": 275,
   "metadata": {
    "id": "jpELnPrSN159"
   },
   "outputs": [],
   "source": [
    "from sklearn.model_selection import train_test_split"
   ]
  },
  {
   "cell_type": "code",
   "execution_count": 303,
   "metadata": {
    "id": "ogOJ2hifXYbL"
   },
   "outputs": [],
   "source": [
    "train, test = train_test_split(Features_dum, test_size=0.1)"
   ]
  },
  {
   "cell_type": "code",
   "execution_count": 304,
   "metadata": {
    "id": "dK188CjPXiaK"
   },
   "outputs": [],
   "source": [
    "X_train = train.drop(['target'], axis=1)\n",
    "y_train = train['target'].copy()\n",
    "\n",
    "X_test = test.drop(['target'], axis=1)\n",
    "y_test = test['target'].copy()"
   ]
  },
  {
   "cell_type": "markdown",
   "metadata": {
    "id": "OV5Nl5cqNscW"
   },
   "source": [
    "### Нормализация признаки"
   ]
  },
  {
   "cell_type": "code",
   "execution_count": 305,
   "metadata": {
    "id": "up-K0-aINL1R"
   },
   "outputs": [],
   "source": [
    "# Нормируем признаки\n",
    "normalizer = preprocessing.MinMaxScaler()\n",
    "X_train_values = normalizer.fit_transform(X_train.values)"
   ]
  },
  {
   "cell_type": "code",
   "execution_count": 306,
   "metadata": {
    "id": "WjYGdSY-QFtt"
   },
   "outputs": [],
   "source": [
    "X_test_values = normalizer.transform(X_test.values)"
   ]
  },
  {
   "cell_type": "markdown",
   "metadata": {
    "id": "yj-T410oPOUx"
   },
   "source": [
    "# Обучение XGBoost"
   ]
  },
  {
   "cell_type": "code",
   "execution_count": 307,
   "metadata": {
    "id": "3euFz3CcPNz2"
   },
   "outputs": [],
   "source": [
    "from sklearn.linear_model import ElasticNet, Lasso,  BayesianRidge, LassoLarsIC\n",
    "from sklearn.ensemble import RandomForestRegressor,  GradientBoostingRegressor\n",
    "from sklearn.kernel_ridge import KernelRidge\n",
    "from sklearn.pipeline import make_pipeline\n",
    "from sklearn.preprocessing import RobustScaler\n",
    "from sklearn.base import BaseEstimator, TransformerMixin, RegressorMixin, clone\n",
    "from sklearn.model_selection import KFold, cross_val_score, train_test_split\n",
    "from sklearn.metrics import mean_squared_error\n",
    "import xgboost as xgb"
   ]
  },
  {
   "cell_type": "code",
   "execution_count": 308,
   "metadata": {
    "id": "Y2sd3jqmPSzy"
   },
   "outputs": [],
   "source": [
    "model_xgb = xgb.XGBRegressor()"
   ]
  },
  {
   "cell_type": "code",
   "execution_count": 309,
   "metadata": {
    "colab": {
     "base_uri": "https://localhost:8080/"
    },
    "id": "CdA8WhaOPmqe",
    "outputId": "b90e7dc1-6cb8-452d-f3da-b4ab6af6260f"
   },
   "outputs": [
    {
     "name": "stdout",
     "output_type": "stream",
     "text": [
      "[11:31:05] WARNING: /workspace/src/objective/regression_obj.cu:152: reg:linear is now deprecated in favor of reg:squarederror.\n"
     ]
    },
    {
     "data": {
      "text/plain": [
       "XGBRegressor()"
      ]
     },
     "execution_count": 309,
     "metadata": {},
     "output_type": "execute_result"
    }
   ],
   "source": [
    "model_xgb.fit(X_train_values, y_train)"
   ]
  },
  {
   "cell_type": "code",
   "execution_count": 310,
   "metadata": {
    "colab": {
     "base_uri": "https://localhost:8080/"
    },
    "id": "kPhqzHKbkRJA",
    "outputId": "5d4b5158-7488-4788-c965-255cc216a722"
   },
   "outputs": [
    {
     "name": "stdout",
     "output_type": "stream",
     "text": [
      "0.8276687460293773\n"
     ]
    }
   ],
   "source": [
    "print(model_xgb.score(X_test_values, y_test))"
   ]
  }
 ],
 "metadata": {
  "colab": {
   "collapsed_sections": [],
   "name": "alfa3.ipynb",
   "provenance": []
  },
  "kernelspec": {
   "display_name": "Python 3 (ipykernel)",
   "language": "python",
   "name": "python3"
  },
  "language_info": {
   "codemirror_mode": {
    "name": "ipython",
    "version": 3
   },
   "file_extension": ".py",
   "mimetype": "text/x-python",
   "name": "python",
   "nbconvert_exporter": "python",
   "pygments_lexer": "ipython3",
   "version": "3.8.5"
  },
  "widgets": {
   "application/vnd.jupyter.widget-state+json": {
    "0bca376be618408b83ac153a34a38969": {
     "model_module": "@jupyter-widgets/base",
     "model_module_version": "1.2.0",
     "model_name": "LayoutModel",
     "state": {
      "_model_module": "@jupyter-widgets/base",
      "_model_module_version": "1.2.0",
      "_model_name": "LayoutModel",
      "_view_count": null,
      "_view_module": "@jupyter-widgets/base",
      "_view_module_version": "1.2.0",
      "_view_name": "LayoutView",
      "align_content": null,
      "align_items": null,
      "align_self": null,
      "border": null,
      "bottom": null,
      "display": null,
      "flex": null,
      "flex_flow": null,
      "grid_area": null,
      "grid_auto_columns": null,
      "grid_auto_flow": null,
      "grid_auto_rows": null,
      "grid_column": null,
      "grid_gap": null,
      "grid_row": null,
      "grid_template_areas": null,
      "grid_template_columns": null,
      "grid_template_rows": null,
      "height": null,
      "justify_content": null,
      "justify_items": null,
      "left": null,
      "margin": null,
      "max_height": null,
      "max_width": null,
      "min_height": null,
      "min_width": null,
      "object_fit": null,
      "object_position": null,
      "order": null,
      "overflow": null,
      "overflow_x": null,
      "overflow_y": null,
      "padding": null,
      "right": null,
      "top": null,
      "visibility": null,
      "width": "20px"
     }
    },
    "147b0a6f51ff4824ac3300f3b05415cf": {
     "model_module": "@jupyter-widgets/controls",
     "model_module_version": "1.5.0",
     "model_name": "HTMLModel",
     "state": {
      "_dom_classes": [],
      "_model_module": "@jupyter-widgets/controls",
      "_model_module_version": "1.5.0",
      "_model_name": "HTMLModel",
      "_view_count": null,
      "_view_module": "@jupyter-widgets/controls",
      "_view_module_version": "1.5.0",
      "_view_name": "HTMLView",
      "description": "",
      "description_tooltip": null,
      "layout": "IPY_MODEL_8cebd72f78604faaa6d21e87502f80bc",
      "placeholder": "​",
      "style": "IPY_MODEL_3cd5170ec37a4c43b7fae0065652c5a3",
      "value": ""
     }
    },
    "3cd5170ec37a4c43b7fae0065652c5a3": {
     "model_module": "@jupyter-widgets/controls",
     "model_module_version": "1.5.0",
     "model_name": "DescriptionStyleModel",
     "state": {
      "_model_module": "@jupyter-widgets/controls",
      "_model_module_version": "1.5.0",
      "_model_name": "DescriptionStyleModel",
      "_view_count": null,
      "_view_module": "@jupyter-widgets/base",
      "_view_module_version": "1.2.0",
      "_view_name": "StyleView",
      "description_width": ""
     }
    },
    "4422db434b994de9bd30566e04d0cf40": {
     "model_module": "@jupyter-widgets/controls",
     "model_module_version": "1.5.0",
     "model_name": "ProgressStyleModel",
     "state": {
      "_model_module": "@jupyter-widgets/controls",
      "_model_module_version": "1.5.0",
      "_model_name": "ProgressStyleModel",
      "_view_count": null,
      "_view_module": "@jupyter-widgets/base",
      "_view_module_version": "1.2.0",
      "_view_name": "StyleView",
      "bar_color": null,
      "description_width": ""
     }
    },
    "6d6f4296dfcd464382ee23fb97bbf09d": {
     "model_module": "@jupyter-widgets/base",
     "model_module_version": "1.2.0",
     "model_name": "LayoutModel",
     "state": {
      "_model_module": "@jupyter-widgets/base",
      "_model_module_version": "1.2.0",
      "_model_name": "LayoutModel",
      "_view_count": null,
      "_view_module": "@jupyter-widgets/base",
      "_view_module_version": "1.2.0",
      "_view_name": "LayoutView",
      "align_content": null,
      "align_items": null,
      "align_self": null,
      "border": null,
      "bottom": null,
      "display": null,
      "flex": null,
      "flex_flow": null,
      "grid_area": null,
      "grid_auto_columns": null,
      "grid_auto_flow": null,
      "grid_auto_rows": null,
      "grid_column": null,
      "grid_gap": null,
      "grid_row": null,
      "grid_template_areas": null,
      "grid_template_columns": null,
      "grid_template_rows": null,
      "height": null,
      "justify_content": null,
      "justify_items": null,
      "left": null,
      "margin": null,
      "max_height": null,
      "max_width": null,
      "min_height": null,
      "min_width": null,
      "object_fit": null,
      "object_position": null,
      "order": null,
      "overflow": null,
      "overflow_x": null,
      "overflow_y": null,
      "padding": null,
      "right": null,
      "top": null,
      "visibility": null,
      "width": null
     }
    },
    "8cebd72f78604faaa6d21e87502f80bc": {
     "model_module": "@jupyter-widgets/base",
     "model_module_version": "1.2.0",
     "model_name": "LayoutModel",
     "state": {
      "_model_module": "@jupyter-widgets/base",
      "_model_module_version": "1.2.0",
      "_model_name": "LayoutModel",
      "_view_count": null,
      "_view_module": "@jupyter-widgets/base",
      "_view_module_version": "1.2.0",
      "_view_name": "LayoutView",
      "align_content": null,
      "align_items": null,
      "align_self": null,
      "border": null,
      "bottom": null,
      "display": null,
      "flex": null,
      "flex_flow": null,
      "grid_area": null,
      "grid_auto_columns": null,
      "grid_auto_flow": null,
      "grid_auto_rows": null,
      "grid_column": null,
      "grid_gap": null,
      "grid_row": null,
      "grid_template_areas": null,
      "grid_template_columns": null,
      "grid_template_rows": null,
      "height": null,
      "justify_content": null,
      "justify_items": null,
      "left": null,
      "margin": null,
      "max_height": null,
      "max_width": null,
      "min_height": null,
      "min_width": null,
      "object_fit": null,
      "object_position": null,
      "order": null,
      "overflow": null,
      "overflow_x": null,
      "overflow_y": null,
      "padding": null,
      "right": null,
      "top": null,
      "visibility": null,
      "width": null
     }
    },
    "8cefc75ebcc8492391458a53b99867c2": {
     "model_module": "@jupyter-widgets/controls",
     "model_module_version": "1.5.0",
     "model_name": "FloatProgressModel",
     "state": {
      "_dom_classes": [],
      "_model_module": "@jupyter-widgets/controls",
      "_model_module_version": "1.5.0",
      "_model_name": "FloatProgressModel",
      "_view_count": null,
      "_view_module": "@jupyter-widgets/controls",
      "_view_module_version": "1.5.0",
      "_view_name": "ProgressView",
      "bar_style": "success",
      "description": "",
      "description_tooltip": null,
      "layout": "IPY_MODEL_0bca376be618408b83ac153a34a38969",
      "max": 1,
      "min": 0,
      "orientation": "horizontal",
      "style": "IPY_MODEL_4422db434b994de9bd30566e04d0cf40",
      "value": 1
     }
    },
    "a802cc7ffa614232a14fcb4d3acda014": {
     "model_module": "@jupyter-widgets/controls",
     "model_module_version": "1.5.0",
     "model_name": "HTMLModel",
     "state": {
      "_dom_classes": [],
      "_model_module": "@jupyter-widgets/controls",
      "_model_module_version": "1.5.0",
      "_model_name": "HTMLModel",
      "_view_count": null,
      "_view_module": "@jupyter-widgets/controls",
      "_view_module_version": "1.5.0",
      "_view_name": "HTMLView",
      "description": "",
      "description_tooltip": null,
      "layout": "IPY_MODEL_6d6f4296dfcd464382ee23fb97bbf09d",
      "placeholder": "​",
      "style": "IPY_MODEL_b3444d0b21c846b9b982f5be1c8e0e37",
      "value": " 126/? [22:56&lt;00:00, 14.50s/it]"
     }
    },
    "b3444d0b21c846b9b982f5be1c8e0e37": {
     "model_module": "@jupyter-widgets/controls",
     "model_module_version": "1.5.0",
     "model_name": "DescriptionStyleModel",
     "state": {
      "_model_module": "@jupyter-widgets/controls",
      "_model_module_version": "1.5.0",
      "_model_name": "DescriptionStyleModel",
      "_view_count": null,
      "_view_module": "@jupyter-widgets/base",
      "_view_module_version": "1.2.0",
      "_view_name": "StyleView",
      "description_width": ""
     }
    },
    "c01b177f981846fb8ac2e5ba0bdb8ca2": {
     "model_module": "@jupyter-widgets/base",
     "model_module_version": "1.2.0",
     "model_name": "LayoutModel",
     "state": {
      "_model_module": "@jupyter-widgets/base",
      "_model_module_version": "1.2.0",
      "_model_name": "LayoutModel",
      "_view_count": null,
      "_view_module": "@jupyter-widgets/base",
      "_view_module_version": "1.2.0",
      "_view_name": "LayoutView",
      "align_content": null,
      "align_items": null,
      "align_self": null,
      "border": null,
      "bottom": null,
      "display": null,
      "flex": null,
      "flex_flow": null,
      "grid_area": null,
      "grid_auto_columns": null,
      "grid_auto_flow": null,
      "grid_auto_rows": null,
      "grid_column": null,
      "grid_gap": null,
      "grid_row": null,
      "grid_template_areas": null,
      "grid_template_columns": null,
      "grid_template_rows": null,
      "height": null,
      "justify_content": null,
      "justify_items": null,
      "left": null,
      "margin": null,
      "max_height": null,
      "max_width": null,
      "min_height": null,
      "min_width": null,
      "object_fit": null,
      "object_position": null,
      "order": null,
      "overflow": null,
      "overflow_x": null,
      "overflow_y": null,
      "padding": null,
      "right": null,
      "top": null,
      "visibility": null,
      "width": null
     }
    },
    "f53d7f36fb2b4ef8a3971818ba9f44b5": {
     "model_module": "@jupyter-widgets/controls",
     "model_module_version": "1.5.0",
     "model_name": "HBoxModel",
     "state": {
      "_dom_classes": [],
      "_model_module": "@jupyter-widgets/controls",
      "_model_module_version": "1.5.0",
      "_model_name": "HBoxModel",
      "_view_count": null,
      "_view_module": "@jupyter-widgets/controls",
      "_view_module_version": "1.5.0",
      "_view_name": "HBoxView",
      "box_style": "",
      "children": [
       "IPY_MODEL_147b0a6f51ff4824ac3300f3b05415cf",
       "IPY_MODEL_8cefc75ebcc8492391458a53b99867c2",
       "IPY_MODEL_a802cc7ffa614232a14fcb4d3acda014"
      ],
      "layout": "IPY_MODEL_c01b177f981846fb8ac2e5ba0bdb8ca2"
     }
    }
   }
  }
 },
 "nbformat": 4,
 "nbformat_minor": 1
}
